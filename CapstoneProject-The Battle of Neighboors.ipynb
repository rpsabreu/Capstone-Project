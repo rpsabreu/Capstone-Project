{
 "cells": [
  {
   "cell_type": "markdown",
   "metadata": {},
   "source": [
    "# Capstone Project - The Battle of Neighborhoods"
   ]
  },
  {
   "cell_type": "markdown",
   "metadata": {},
   "source": [
    "## Table of Contents\n",
    "\n",
    "<div class=\"alert alert-block alert-info\" style=\"margin-top: 20px\">\n",
    "\n",
    "<font size = 3>\n",
    "1. <a href=\"#item1\">Introduction/Business Problem</a>    \n",
    "2. <a href=\"#item2\">Data/Methodology</a> \n",
    "3. <a href=\"#item2\">Results/Discussion</a> \n",
    "4. <a href=\"#item5\">Conclusion</a>     \n",
    "</font>\n",
    "</div>"
   ]
  },
  {
   "cell_type": "markdown",
   "metadata": {},
   "source": [
    "## 1. Introduction/Business Problem \n",
    "**The purpose of this project is to find potential neighborhoods in Bronx, NY to open a new gym. First, I will identify the neighborhoods that do not have a gym yet. Secondly, I will find the top 3 most common venues for each neighborhood. Lastly, potential neighborhoods will be selected based on these venues. A venues of interest is public transportation**"
   ]
  },
  {
   "cell_type": "markdown",
   "metadata": {},
   "source": [
    "## 2. Data/Methodology"
   ]
  },
  {
   "cell_type": "markdown",
   "metadata": {},
   "source": [
    "## 2.1. I used Foursquare location data to find potential neighborhoods in Bronx, NY that do not have a gym."
   ]
  },
  {
   "cell_type": "markdown",
   "metadata": {},
   "source": [
    "### Import necessary Libraries"
   ]
  },
  {
   "cell_type": "code",
   "execution_count": 1,
   "metadata": {},
   "outputs": [
    {
     "name": "stdout",
     "output_type": "stream",
     "text": [
      "Solving environment: done\n",
      "\n",
      "## Package Plan ##\n",
      "\n",
      "  environment location: /home/jupyterlab/conda\n",
      "\n",
      "  added / updated specs: \n",
      "    - geopy\n",
      "\n",
      "\n",
      "The following packages will be downloaded:\n",
      "\n",
      "    package                    |            build\n",
      "    ---------------------------|-----------------\n",
      "    geographiclib-1.49         |             py_0          32 KB  conda-forge\n",
      "    cryptography-2.4.2         |   py36h1ba5d50_0         618 KB\n",
      "    openssl-1.1.1a             |    h14c3975_1000         4.0 MB  conda-forge\n",
      "    libarchive-3.3.3           |       h5d8350f_5         1.5 MB\n",
      "    grpcio-1.16.1              |   py36hf8bcb03_1         1.1 MB\n",
      "    geopy-1.18.1               |             py_0          51 KB  conda-forge\n",
      "    conda-4.6.2                |           py36_0         869 KB  conda-forge\n",
      "    libssh2-1.8.0              |                1         239 KB  conda-forge\n",
      "    python-3.6.8               |       h0371630_0        34.4 MB\n",
      "    ------------------------------------------------------------\n",
      "                                           Total:        42.7 MB\n",
      "\n",
      "The following NEW packages will be INSTALLED:\n",
      "\n",
      "    geographiclib: 1.49-py_0                conda-forge\n",
      "\n",
      "The following packages will be UPDATED:\n",
      "\n",
      "    conda:         4.5.12-py36_1000         conda-forge --> 4.6.2-py36_0            conda-forge\n",
      "    cryptography:  2.3.1-py36hb7f436b_1000  conda-forge --> 2.4.2-py36h1ba5d50_0               \n",
      "    curl:          7.63.0-h646f8bb_1000     conda-forge --> 7.63.0-hbc83047_1000               \n",
      "    geopy:         1.11.0-py36_0            conda-forge --> 1.18.1-py_0             conda-forge\n",
      "    grpcio:        1.16.0-py36h4f00d22_1000 conda-forge --> 1.16.1-py36hf8bcb03_1              \n",
      "    libcurl:       7.63.0-h01ee5af_1000     conda-forge --> 7.63.0-h20c2e04_1000               \n",
      "    openssl:       1.0.2p-h14c3975_1002     conda-forge --> 1.1.1a-h14c3975_1000    conda-forge\n",
      "    pycurl:        7.43.0.2-py36hb7f436b_0              --> 7.43.0.2-py36h1ba5d50_0            \n",
      "    python:        3.6.6-hd21baee_1003      conda-forge --> 3.6.8-h0371630_0                   \n",
      "    qt:            5.9.6-h8703b6f_2                     --> 5.9.7-h5867ecd_1                   \n",
      "\n",
      "The following packages will be DOWNGRADED:\n",
      "\n",
      "    krb5:          1.16.2-hc83ff2d_1000     conda-forge --> 1.16.1-h173b8e3_7                  \n",
      "    libarchive:    3.3.3-ha149a29_1000      conda-forge --> 3.3.3-h5d8350f_5                   \n",
      "    libssh2:       1.8.0-h1ad7b7a_1003      conda-forge --> 1.8.0-1                 conda-forge\n",
      "\n",
      "\n",
      "Downloading and Extracting Packages\n",
      "geographiclib-1.49   | 32 KB     | ##################################### | 100% \n",
      "cryptography-2.4.2   | 618 KB    | ##################################### | 100% \n",
      "openssl-1.1.1a       | 4.0 MB    | ##################################### | 100% \n",
      "libarchive-3.3.3     | 1.5 MB    | ##################################### | 100% \n",
      "grpcio-1.16.1        | 1.1 MB    | ##################################### | 100% \n",
      "geopy-1.18.1         | 51 KB     | ##################################### | 100% \n",
      "conda-4.6.2          | 869 KB    | ##################################### | 100% \n",
      "libssh2-1.8.0        | 239 KB    | ##################################### | 100% \n",
      "python-3.6.8         | 34.4 MB   | ##################################### | 100% \n",
      "Preparing transaction: done\n",
      "Verifying transaction: done\n",
      "Executing transaction: done\n",
      "Collecting package metadata: done\n",
      "Solving environment: done\n",
      "\n",
      "# All requested packages already installed.\n",
      "\n",
      "Libraries imported.\n"
     ]
    }
   ],
   "source": [
    "import numpy as np # library to handle data in a vectorized manner\n",
    "\n",
    "import pandas as pd # library for data analsysis\n",
    "pd.set_option('display.max_columns', None)\n",
    "pd.set_option('display.max_rows', None)\n",
    "\n",
    "import json # library to handle JSON files\n",
    "\n",
    "!conda install -c conda-forge geopy --yes # uncomment this line if you haven't completed the Foursquare API lab\n",
    "from geopy.geocoders import Nominatim # convert an address into latitude and longitude values\n",
    "\n",
    "import requests # library to handle requests\n",
    "from pandas.io.json import json_normalize # tranform JSON file into a pandas dataframe\n",
    "\n",
    "# Matplotlib and associated plotting modules\n",
    "import matplotlib.cm as cm\n",
    "import matplotlib.colors as colors\n",
    "\n",
    "# import k-means from clustering stage\n",
    "from sklearn.cluster import KMeans\n",
    "\n",
    "!conda install -c conda-forge folium=0.5.0 --yes # uncomment this line if you haven't completed the Foursquare API lab\n",
    "import folium # map rendering library\n",
    "\n",
    "print('Libraries imported.')"
   ]
  },
  {
   "cell_type": "markdown",
   "metadata": {},
   "source": [
    "#### Download and export dataset (New York)"
   ]
  },
  {
   "cell_type": "code",
   "execution_count": 3,
   "metadata": {},
   "outputs": [
    {
     "name": "stdout",
     "output_type": "stream",
     "text": [
      "Data downloaded!\n"
     ]
    }
   ],
   "source": [
    "!wget -q -O 'newyork_data.json' https://ibm.box.com/shared/static/fbpwbovar7lf8p5sgddm06cgipa2rxpe.json\n",
    "print('Data downloaded!')"
   ]
  },
  {
   "cell_type": "code",
   "execution_count": 4,
   "metadata": {},
   "outputs": [],
   "source": [
    "with open('newyork_data.json') as json_data:\n",
    "    newyork_data = json.load(json_data)"
   ]
  },
  {
   "cell_type": "code",
   "execution_count": 2,
   "metadata": {},
   "outputs": [],
   "source": [
    "#newyork_data"
   ]
  },
  {
   "cell_type": "code",
   "execution_count": 5,
   "metadata": {},
   "outputs": [],
   "source": [
    "neighborhoods_data = newyork_data['features']"
   ]
  },
  {
   "cell_type": "code",
   "execution_count": 168,
   "metadata": {},
   "outputs": [],
   "source": [
    "#neighborhoods_data[0]"
   ]
  },
  {
   "cell_type": "markdown",
   "metadata": {},
   "source": [
    "#### Tranform the data into a *pandas* dataframe"
   ]
  },
  {
   "cell_type": "code",
   "execution_count": 6,
   "metadata": {},
   "outputs": [],
   "source": [
    "# define the dataframe columns\n",
    "column_names = ['Borough', 'Neighborhood', 'Latitude', 'Longitude'] \n",
    "\n",
    "# instantiate the dataframe\n",
    "neighborhoods = pd.DataFrame(columns=column_names)"
   ]
  },
  {
   "cell_type": "code",
   "execution_count": 7,
   "metadata": {},
   "outputs": [],
   "source": [
    "for data in neighborhoods_data:\n",
    "    borough = neighborhood_name = data['properties']['borough'] \n",
    "    neighborhood_name = data['properties']['name']\n",
    "        \n",
    "    neighborhood_latlon = data['geometry']['coordinates']\n",
    "    neighborhood_lat = neighborhood_latlon[1]\n",
    "    neighborhood_lon = neighborhood_latlon[0]\n",
    "    \n",
    "    neighborhoods = neighborhoods.append({'Borough': borough,\n",
    "                                          'Neighborhood': neighborhood_name,\n",
    "                                          'Latitude': neighborhood_lat,\n",
    "                                          'Longitude': neighborhood_lon}, ignore_index=True)"
   ]
  },
  {
   "cell_type": "markdown",
   "metadata": {},
   "source": [
    "#### Select the Borough Bronx"
   ]
  },
  {
   "cell_type": "code",
   "execution_count": 8,
   "metadata": {},
   "outputs": [
    {
     "data": {
      "text/html": [
       "<div>\n",
       "<style scoped>\n",
       "    .dataframe tbody tr th:only-of-type {\n",
       "        vertical-align: middle;\n",
       "    }\n",
       "\n",
       "    .dataframe tbody tr th {\n",
       "        vertical-align: top;\n",
       "    }\n",
       "\n",
       "    .dataframe thead th {\n",
       "        text-align: right;\n",
       "    }\n",
       "</style>\n",
       "<table border=\"1\" class=\"dataframe\">\n",
       "  <thead>\n",
       "    <tr style=\"text-align: right;\">\n",
       "      <th></th>\n",
       "      <th>Borough</th>\n",
       "      <th>Neighborhood</th>\n",
       "      <th>Latitude</th>\n",
       "      <th>Longitude</th>\n",
       "    </tr>\n",
       "  </thead>\n",
       "  <tbody>\n",
       "    <tr>\n",
       "      <th>0</th>\n",
       "      <td>Bronx</td>\n",
       "      <td>Wakefield</td>\n",
       "      <td>40.894705</td>\n",
       "      <td>-73.847201</td>\n",
       "    </tr>\n",
       "    <tr>\n",
       "      <th>1</th>\n",
       "      <td>Bronx</td>\n",
       "      <td>Co-op City</td>\n",
       "      <td>40.874294</td>\n",
       "      <td>-73.829939</td>\n",
       "    </tr>\n",
       "    <tr>\n",
       "      <th>2</th>\n",
       "      <td>Bronx</td>\n",
       "      <td>Eastchester</td>\n",
       "      <td>40.887556</td>\n",
       "      <td>-73.827806</td>\n",
       "    </tr>\n",
       "    <tr>\n",
       "      <th>3</th>\n",
       "      <td>Bronx</td>\n",
       "      <td>Fieldston</td>\n",
       "      <td>40.895437</td>\n",
       "      <td>-73.905643</td>\n",
       "    </tr>\n",
       "    <tr>\n",
       "      <th>4</th>\n",
       "      <td>Bronx</td>\n",
       "      <td>Riverdale</td>\n",
       "      <td>40.890834</td>\n",
       "      <td>-73.912585</td>\n",
       "    </tr>\n",
       "  </tbody>\n",
       "</table>\n",
       "</div>"
      ],
      "text/plain": [
       "  Borough Neighborhood   Latitude  Longitude\n",
       "0   Bronx    Wakefield  40.894705 -73.847201\n",
       "1   Bronx   Co-op City  40.874294 -73.829939\n",
       "2   Bronx  Eastchester  40.887556 -73.827806\n",
       "3   Bronx    Fieldston  40.895437 -73.905643\n",
       "4   Bronx    Riverdale  40.890834 -73.912585"
      ]
     },
     "execution_count": 8,
     "metadata": {},
     "output_type": "execute_result"
    }
   ],
   "source": [
    "bronx_data = neighborhoods[neighborhoods['Borough'] == 'Bronx'].reset_index(drop=True)\n",
    "bronx_data.head()"
   ]
  },
  {
   "cell_type": "markdown",
   "metadata": {},
   "source": [
    "#### Define Foursquare Credentials and Version"
   ]
  },
  {
   "cell_type": "code",
   "execution_count": 115,
   "metadata": {},
   "outputs": [],
   "source": [
    "#not shown"
   ]
  },
  {
   "cell_type": "markdown",
   "metadata": {},
   "source": [
    "#### Find venues for each neighborhood"
   ]
  },
  {
   "cell_type": "code",
   "execution_count": 10,
   "metadata": {},
   "outputs": [],
   "source": [
    "LIMIT = 100 \n",
    "def getNearbyVenues(names, latitudes, longitudes, radius=500):\n",
    "    \n",
    "    venues_list=[]\n",
    "    for name, lat, lng in zip(names, latitudes, longitudes):\n",
    "        #print(name)    \n",
    "        # create the API request URL\n",
    "        url = 'https://api.foursquare.com/v2/venues/explore?&client_id={}&client_secret={}&v={}&ll={},{}&radius={}&limit={}'.format(\n",
    "            CLIENT_ID, \n",
    "            CLIENT_SECRET, \n",
    "            VERSION, \n",
    "            lat, \n",
    "            lng, \n",
    "            radius, \n",
    "            LIMIT)\n",
    "            \n",
    "        # make the GET request\n",
    "        results = requests.get(url).json()[\"response\"]['groups'][0]['items']\n",
    "        \n",
    "        # return only relevant information for each nearby venue\n",
    "        venues_list.append([(\n",
    "            name, \n",
    "            lat, \n",
    "            lng, \n",
    "            v['venue']['name'], \n",
    "            v['venue']['location']['lat'], \n",
    "            v['venue']['location']['lng'],  \n",
    "            v['venue']['categories'][0]['name']) for v in results])\n",
    "\n",
    "    nearby_venues = pd.DataFrame([item for venue_list in venues_list for item in venue_list])\n",
    "    nearby_venues.columns = ['Neighborhood', \n",
    "                  'Neighborhood Latitude', \n",
    "                  'Neighborhood Longitude', \n",
    "                  'Venue', \n",
    "                  'VenueLatitude', \n",
    "                  'VenueLongitude', \n",
    "                  'VenueCategory']\n",
    "    \n",
    "    return(nearby_venues)"
   ]
  },
  {
   "cell_type": "code",
   "execution_count": 11,
   "metadata": {},
   "outputs": [],
   "source": [
    "bronx_venues = getNearbyVenues(names=bronx_data['Neighborhood'],\n",
    "                                   latitudes=bronx_data['Latitude'],\n",
    "                                   longitudes=bronx_data['Longitude']\n",
    "                                  )"
   ]
  },
  {
   "cell_type": "code",
   "execution_count": 12,
   "metadata": {},
   "outputs": [],
   "source": [
    "#bronx_venues.head()"
   ]
  },
  {
   "cell_type": "markdown",
   "metadata": {},
   "source": [
    "#### Print existent gyms and their neighborhood. Then select all venues from neigborhoods without a gym"
   ]
  },
  {
   "cell_type": "code",
   "execution_count": 13,
   "metadata": {},
   "outputs": [
    {
     "name": "stdout",
     "output_type": "stream",
     "text": [
      "Neighborhood:Gym\n",
      "Riverdale : Hayden On Hudson Gym\n",
      "Baychester : Planet Fitness\n",
      "Pelham Parkway : B-Well Studio\n",
      "Fordham : Blink Fitness Fordham\n",
      "Fordham : Blink Fitness\n",
      "Fordham : Lucille Roberts\n",
      "Fordham : Planet Fitness\n",
      "Fordham : 24 Hour Fitness\n",
      "Fordham : 24 Hour Fitness\n",
      "High  Bridge : Retro Fitness\n",
      "Melrose : Blink Fitness\n",
      "Melrose : Blink Fitness St Ann's\n",
      "Mott Haven : CrossFit SoBro (South Bronx)\n",
      "Mott Haven : The Bronx Box\n",
      "Parkchester : Blink Fitness Parkchester\n",
      "Westchester Square : Star Fitness\n",
      "Pelham Bay : iLoveKickboxing - Bronx\n",
      "Pelham Bay : Planet Fitness\n",
      "Pelham Bay : Thin Is In\n",
      "Claremont Village : Retro Fitness\n",
      "Mount Eden : Blink Fitness Mt. Eden\n",
      "Mount Eden : Planet Fitness\n",
      "Bronxdale : Bronx House Fitness\n"
     ]
    }
   ],
   "source": [
    "bronx_nogym = []\n",
    "print('Neighborhood:Gym')\n",
    "for row,venuecategory in enumerate(bronx_venues.VenueCategory):\n",
    "    if \"Gym\" in venuecategory:\n",
    "        print(bronx_venues.loc[row,\"Neighborhood\"],\":\",bronx_venues.loc[row,\"Venue\"])\n",
    "    else: \n",
    "        bronx_nogym.append(bronx_venues.loc[row,])\n",
    "bronx_nogym=pd.DataFrame(bronx_nogym)\n",
    "#bronx_nogym.head()"
   ]
  },
  {
   "cell_type": "code",
   "execution_count": 191,
   "metadata": {},
   "outputs": [
    {
     "name": "stdout",
     "output_type": "stream",
     "text": [
      "Bronx has 52 neighborhoods without a gym.\n"
     ]
    }
   ],
   "source": [
    "print('Bronx has {} neighborhoods without a gym.'.format(len(bronx_nogym[\"Neighborhood\"].unique())))"
   ]
  },
  {
   "cell_type": "markdown",
   "metadata": {},
   "source": [
    "## 2.2. I found the top 3 venues for each of the neighborhoods that do not have a gym yet."
   ]
  },
  {
   "cell_type": "code",
   "execution_count": 14,
   "metadata": {},
   "outputs": [],
   "source": [
    "# one hot encoding\n",
    "bronx_nogym_onehot = pd.get_dummies(bronx_nogym[['VenueCategory']], prefix=\"\", prefix_sep=\"\")\n",
    "\n",
    "# add neighborhood column back to dataframe\n",
    "bronx_nogym_onehot['Neighborhood'] = bronx_nogym['Neighborhood'] \n",
    "\n",
    "# move neighborhood column to the first column\n",
    "fixed_columns = [bronx_nogym_onehot.columns[-1]] + list(bronx_nogym_onehot.columns[:-1])\n",
    "bronx_nogym_onehot = bronx_nogym_onehot[fixed_columns]\n",
    "\n",
    "#bronx_nogym_onehot.head()"
   ]
  },
  {
   "cell_type": "code",
   "execution_count": 15,
   "metadata": {},
   "outputs": [],
   "source": [
    "bronx_nogym_grouped = bronx_nogym_onehot.groupby('Neighborhood').mean().reset_index()"
   ]
  },
  {
   "cell_type": "code",
   "execution_count": 16,
   "metadata": {},
   "outputs": [],
   "source": [
    "def return_most_common_venues(row, num_top_venues):\n",
    "    row_categories = row.iloc[1:]\n",
    "    row_categories_sorted = row_categories.sort_values(ascending=False)\n",
    "    \n",
    "    return row_categories_sorted.index.values[0:num_top_venues]"
   ]
  },
  {
   "cell_type": "code",
   "execution_count": 19,
   "metadata": {},
   "outputs": [
    {
     "data": {
      "text/html": [
       "<div>\n",
       "<style scoped>\n",
       "    .dataframe tbody tr th:only-of-type {\n",
       "        vertical-align: middle;\n",
       "    }\n",
       "\n",
       "    .dataframe tbody tr th {\n",
       "        vertical-align: top;\n",
       "    }\n",
       "\n",
       "    .dataframe thead th {\n",
       "        text-align: right;\n",
       "    }\n",
       "</style>\n",
       "<table border=\"1\" class=\"dataframe\">\n",
       "  <thead>\n",
       "    <tr style=\"text-align: right;\">\n",
       "      <th></th>\n",
       "      <th>Neighborhood</th>\n",
       "      <th>1st Most Common Venue</th>\n",
       "      <th>2nd Most Common Venue</th>\n",
       "      <th>3rd Most Common Venue</th>\n",
       "    </tr>\n",
       "  </thead>\n",
       "  <tbody>\n",
       "    <tr>\n",
       "      <th>0</th>\n",
       "      <td>Allerton</td>\n",
       "      <td>Pizza Place</td>\n",
       "      <td>Supermarket</td>\n",
       "      <td>Spa</td>\n",
       "    </tr>\n",
       "    <tr>\n",
       "      <th>1</th>\n",
       "      <td>Baychester</td>\n",
       "      <td>Pizza Place</td>\n",
       "      <td>Bank</td>\n",
       "      <td>Discount Store</td>\n",
       "    </tr>\n",
       "    <tr>\n",
       "      <th>2</th>\n",
       "      <td>Bedford Park</td>\n",
       "      <td>Chinese Restaurant</td>\n",
       "      <td>Deli / Bodega</td>\n",
       "      <td>Diner</td>\n",
       "    </tr>\n",
       "    <tr>\n",
       "      <th>3</th>\n",
       "      <td>Belmont</td>\n",
       "      <td>Italian Restaurant</td>\n",
       "      <td>Pizza Place</td>\n",
       "      <td>Deli / Bodega</td>\n",
       "    </tr>\n",
       "    <tr>\n",
       "      <th>4</th>\n",
       "      <td>Bronxdale</td>\n",
       "      <td>Italian Restaurant</td>\n",
       "      <td>Chinese Restaurant</td>\n",
       "      <td>Breakfast Spot</td>\n",
       "    </tr>\n",
       "    <tr>\n",
       "      <th>5</th>\n",
       "      <td>Castle Hill</td>\n",
       "      <td>Latin American Restaurant</td>\n",
       "      <td>Pharmacy</td>\n",
       "      <td>Pizza Place</td>\n",
       "    </tr>\n",
       "    <tr>\n",
       "      <th>6</th>\n",
       "      <td>City Island</td>\n",
       "      <td>Harbor / Marina</td>\n",
       "      <td>Seafood Restaurant</td>\n",
       "      <td>Thrift / Vintage Store</td>\n",
       "    </tr>\n",
       "    <tr>\n",
       "      <th>7</th>\n",
       "      <td>Claremont Village</td>\n",
       "      <td>Bus Station</td>\n",
       "      <td>Pizza Place</td>\n",
       "      <td>Bakery</td>\n",
       "    </tr>\n",
       "    <tr>\n",
       "      <th>8</th>\n",
       "      <td>Clason Point</td>\n",
       "      <td>Park</td>\n",
       "      <td>Spa</td>\n",
       "      <td>Business Service</td>\n",
       "    </tr>\n",
       "    <tr>\n",
       "      <th>9</th>\n",
       "      <td>Co-op City</td>\n",
       "      <td>Bus Station</td>\n",
       "      <td>Discount Store</td>\n",
       "      <td>Ice Cream Shop</td>\n",
       "    </tr>\n",
       "    <tr>\n",
       "      <th>10</th>\n",
       "      <td>Concourse</td>\n",
       "      <td>Pizza Place</td>\n",
       "      <td>Food Truck</td>\n",
       "      <td>Convenience Store</td>\n",
       "    </tr>\n",
       "    <tr>\n",
       "      <th>11</th>\n",
       "      <td>Concourse Village</td>\n",
       "      <td>Fast Food Restaurant</td>\n",
       "      <td>Bus Station</td>\n",
       "      <td>Mexican Restaurant</td>\n",
       "    </tr>\n",
       "    <tr>\n",
       "      <th>12</th>\n",
       "      <td>Country Club</td>\n",
       "      <td>Playground</td>\n",
       "      <td>Flea Market</td>\n",
       "      <td>Trail</td>\n",
       "    </tr>\n",
       "    <tr>\n",
       "      <th>13</th>\n",
       "      <td>East Tremont</td>\n",
       "      <td>Pizza Place</td>\n",
       "      <td>Latin American Restaurant</td>\n",
       "      <td>Café</td>\n",
       "    </tr>\n",
       "    <tr>\n",
       "      <th>14</th>\n",
       "      <td>Eastchester</td>\n",
       "      <td>Caribbean Restaurant</td>\n",
       "      <td>Diner</td>\n",
       "      <td>Bus Station</td>\n",
       "    </tr>\n",
       "    <tr>\n",
       "      <th>15</th>\n",
       "      <td>Edenwald</td>\n",
       "      <td>Fish Market</td>\n",
       "      <td>Deli / Bodega</td>\n",
       "      <td>Supermarket</td>\n",
       "    </tr>\n",
       "    <tr>\n",
       "      <th>16</th>\n",
       "      <td>Edgewater Park</td>\n",
       "      <td>Italian Restaurant</td>\n",
       "      <td>Deli / Bodega</td>\n",
       "      <td>Chinese Restaurant</td>\n",
       "    </tr>\n",
       "    <tr>\n",
       "      <th>17</th>\n",
       "      <td>Fieldston</td>\n",
       "      <td>Playground</td>\n",
       "      <td>Plaza</td>\n",
       "      <td>Cosmetics Shop</td>\n",
       "    </tr>\n",
       "    <tr>\n",
       "      <th>18</th>\n",
       "      <td>Fordham</td>\n",
       "      <td>Pizza Place</td>\n",
       "      <td>Donut Shop</td>\n",
       "      <td>Shoe Store</td>\n",
       "    </tr>\n",
       "    <tr>\n",
       "      <th>19</th>\n",
       "      <td>High  Bridge</td>\n",
       "      <td>Pizza Place</td>\n",
       "      <td>Chinese Restaurant</td>\n",
       "      <td>Latin American Restaurant</td>\n",
       "    </tr>\n",
       "    <tr>\n",
       "      <th>20</th>\n",
       "      <td>Hunts Point</td>\n",
       "      <td>Spanish Restaurant</td>\n",
       "      <td>Juice Bar</td>\n",
       "      <td>Café</td>\n",
       "    </tr>\n",
       "    <tr>\n",
       "      <th>21</th>\n",
       "      <td>Kingsbridge</td>\n",
       "      <td>Pizza Place</td>\n",
       "      <td>Sandwich Place</td>\n",
       "      <td>Bar</td>\n",
       "    </tr>\n",
       "    <tr>\n",
       "      <th>22</th>\n",
       "      <td>Kingsbridge Heights</td>\n",
       "      <td>Pizza Place</td>\n",
       "      <td>Food Truck</td>\n",
       "      <td>Spanish Restaurant</td>\n",
       "    </tr>\n",
       "    <tr>\n",
       "      <th>23</th>\n",
       "      <td>Longwood</td>\n",
       "      <td>Community Center</td>\n",
       "      <td>Grocery Store</td>\n",
       "      <td>Donut Shop</td>\n",
       "    </tr>\n",
       "    <tr>\n",
       "      <th>24</th>\n",
       "      <td>Melrose</td>\n",
       "      <td>Pizza Place</td>\n",
       "      <td>Pharmacy</td>\n",
       "      <td>Supermarket</td>\n",
       "    </tr>\n",
       "    <tr>\n",
       "      <th>25</th>\n",
       "      <td>Morris Heights</td>\n",
       "      <td>Bus Station</td>\n",
       "      <td>Spanish Restaurant</td>\n",
       "      <td>Pharmacy</td>\n",
       "    </tr>\n",
       "    <tr>\n",
       "      <th>26</th>\n",
       "      <td>Morris Park</td>\n",
       "      <td>Pizza Place</td>\n",
       "      <td>Deli / Bodega</td>\n",
       "      <td>Burger Joint</td>\n",
       "    </tr>\n",
       "    <tr>\n",
       "      <th>27</th>\n",
       "      <td>Morrisania</td>\n",
       "      <td>Discount Store</td>\n",
       "      <td>Grocery Store</td>\n",
       "      <td>Donut Shop</td>\n",
       "    </tr>\n",
       "    <tr>\n",
       "      <th>28</th>\n",
       "      <td>Mott Haven</td>\n",
       "      <td>Pizza Place</td>\n",
       "      <td>Spanish Restaurant</td>\n",
       "      <td>Pharmacy</td>\n",
       "    </tr>\n",
       "    <tr>\n",
       "      <th>29</th>\n",
       "      <td>Mount Eden</td>\n",
       "      <td>Supermarket</td>\n",
       "      <td>Pharmacy</td>\n",
       "      <td>Pizza Place</td>\n",
       "    </tr>\n",
       "    <tr>\n",
       "      <th>30</th>\n",
       "      <td>Mount Hope</td>\n",
       "      <td>Grocery Store</td>\n",
       "      <td>Supermarket</td>\n",
       "      <td>Spanish Restaurant</td>\n",
       "    </tr>\n",
       "    <tr>\n",
       "      <th>31</th>\n",
       "      <td>North Riverdale</td>\n",
       "      <td>Pizza Place</td>\n",
       "      <td>Italian Restaurant</td>\n",
       "      <td>Bagel Shop</td>\n",
       "    </tr>\n",
       "    <tr>\n",
       "      <th>32</th>\n",
       "      <td>Norwood</td>\n",
       "      <td>Pizza Place</td>\n",
       "      <td>Park</td>\n",
       "      <td>Bank</td>\n",
       "    </tr>\n",
       "    <tr>\n",
       "      <th>33</th>\n",
       "      <td>Olinville</td>\n",
       "      <td>Supermarket</td>\n",
       "      <td>Caribbean Restaurant</td>\n",
       "      <td>Furniture / Home Store</td>\n",
       "    </tr>\n",
       "    <tr>\n",
       "      <th>34</th>\n",
       "      <td>Parkchester</td>\n",
       "      <td>Supermarket</td>\n",
       "      <td>Pizza Place</td>\n",
       "      <td>Bank</td>\n",
       "    </tr>\n",
       "    <tr>\n",
       "      <th>35</th>\n",
       "      <td>Pelham Bay</td>\n",
       "      <td>Italian Restaurant</td>\n",
       "      <td>Fast Food Restaurant</td>\n",
       "      <td>Donut Shop</td>\n",
       "    </tr>\n",
       "    <tr>\n",
       "      <th>36</th>\n",
       "      <td>Pelham Gardens</td>\n",
       "      <td>Bus Station</td>\n",
       "      <td>Pharmacy</td>\n",
       "      <td>Spanish Restaurant</td>\n",
       "    </tr>\n",
       "    <tr>\n",
       "      <th>37</th>\n",
       "      <td>Pelham Parkway</td>\n",
       "      <td>Deli / Bodega</td>\n",
       "      <td>Pizza Place</td>\n",
       "      <td>Chinese Restaurant</td>\n",
       "    </tr>\n",
       "    <tr>\n",
       "      <th>38</th>\n",
       "      <td>Port Morris</td>\n",
       "      <td>Spanish Restaurant</td>\n",
       "      <td>Furniture / Home Store</td>\n",
       "      <td>Donut Shop</td>\n",
       "    </tr>\n",
       "    <tr>\n",
       "      <th>39</th>\n",
       "      <td>Riverdale</td>\n",
       "      <td>Park</td>\n",
       "      <td>Playground</td>\n",
       "      <td>Home Service</td>\n",
       "    </tr>\n",
       "    <tr>\n",
       "      <th>40</th>\n",
       "      <td>Schuylerville</td>\n",
       "      <td>Mexican Restaurant</td>\n",
       "      <td>Pizza Place</td>\n",
       "      <td>Pharmacy</td>\n",
       "    </tr>\n",
       "    <tr>\n",
       "      <th>41</th>\n",
       "      <td>Soundview</td>\n",
       "      <td>Chinese Restaurant</td>\n",
       "      <td>Grocery Store</td>\n",
       "      <td>Pharmacy</td>\n",
       "    </tr>\n",
       "    <tr>\n",
       "      <th>42</th>\n",
       "      <td>Spuyten Duyvil</td>\n",
       "      <td>Park</td>\n",
       "      <td>Thai Restaurant</td>\n",
       "      <td>Waste Facility</td>\n",
       "    </tr>\n",
       "    <tr>\n",
       "      <th>43</th>\n",
       "      <td>Throgs Neck</td>\n",
       "      <td>Juice Bar</td>\n",
       "      <td>Italian Restaurant</td>\n",
       "      <td>Sports Bar</td>\n",
       "    </tr>\n",
       "    <tr>\n",
       "      <th>44</th>\n",
       "      <td>Unionport</td>\n",
       "      <td>Donut Shop</td>\n",
       "      <td>Latin American Restaurant</td>\n",
       "      <td>Diner</td>\n",
       "    </tr>\n",
       "    <tr>\n",
       "      <th>45</th>\n",
       "      <td>University Heights</td>\n",
       "      <td>Shoe Store</td>\n",
       "      <td>Fast Food Restaurant</td>\n",
       "      <td>Pizza Place</td>\n",
       "    </tr>\n",
       "    <tr>\n",
       "      <th>46</th>\n",
       "      <td>Van Nest</td>\n",
       "      <td>Pizza Place</td>\n",
       "      <td>Deli / Bodega</td>\n",
       "      <td>Bakery</td>\n",
       "    </tr>\n",
       "    <tr>\n",
       "      <th>47</th>\n",
       "      <td>Wakefield</td>\n",
       "      <td>Ice Cream Shop</td>\n",
       "      <td>Pharmacy</td>\n",
       "      <td>Donut Shop</td>\n",
       "    </tr>\n",
       "    <tr>\n",
       "      <th>48</th>\n",
       "      <td>West Farms</td>\n",
       "      <td>Bus Station</td>\n",
       "      <td>Park</td>\n",
       "      <td>Juice Bar</td>\n",
       "    </tr>\n",
       "    <tr>\n",
       "      <th>49</th>\n",
       "      <td>Westchester Square</td>\n",
       "      <td>Donut Shop</td>\n",
       "      <td>Fast Food Restaurant</td>\n",
       "      <td>Pharmacy</td>\n",
       "    </tr>\n",
       "    <tr>\n",
       "      <th>50</th>\n",
       "      <td>Williamsbridge</td>\n",
       "      <td>Caribbean Restaurant</td>\n",
       "      <td>Metro Station</td>\n",
       "      <td>Soup Place</td>\n",
       "    </tr>\n",
       "    <tr>\n",
       "      <th>51</th>\n",
       "      <td>Woodlawn</td>\n",
       "      <td>Pizza Place</td>\n",
       "      <td>Deli / Bodega</td>\n",
       "      <td>Playground</td>\n",
       "    </tr>\n",
       "  </tbody>\n",
       "</table>\n",
       "</div>"
      ],
      "text/plain": [
       "           Neighborhood      1st Most Common Venue      2nd Most Common Venue  \\\n",
       "0              Allerton                Pizza Place                Supermarket   \n",
       "1            Baychester                Pizza Place                       Bank   \n",
       "2          Bedford Park         Chinese Restaurant              Deli / Bodega   \n",
       "3               Belmont         Italian Restaurant                Pizza Place   \n",
       "4             Bronxdale         Italian Restaurant         Chinese Restaurant   \n",
       "5           Castle Hill  Latin American Restaurant                   Pharmacy   \n",
       "6           City Island            Harbor / Marina         Seafood Restaurant   \n",
       "7     Claremont Village                Bus Station                Pizza Place   \n",
       "8          Clason Point                       Park                        Spa   \n",
       "9            Co-op City                Bus Station             Discount Store   \n",
       "10            Concourse                Pizza Place                 Food Truck   \n",
       "11    Concourse Village       Fast Food Restaurant                Bus Station   \n",
       "12         Country Club                 Playground                Flea Market   \n",
       "13         East Tremont                Pizza Place  Latin American Restaurant   \n",
       "14          Eastchester       Caribbean Restaurant                      Diner   \n",
       "15             Edenwald                Fish Market              Deli / Bodega   \n",
       "16       Edgewater Park         Italian Restaurant              Deli / Bodega   \n",
       "17            Fieldston                 Playground                      Plaza   \n",
       "18              Fordham                Pizza Place                 Donut Shop   \n",
       "19         High  Bridge                Pizza Place         Chinese Restaurant   \n",
       "20          Hunts Point         Spanish Restaurant                  Juice Bar   \n",
       "21          Kingsbridge                Pizza Place             Sandwich Place   \n",
       "22  Kingsbridge Heights                Pizza Place                 Food Truck   \n",
       "23             Longwood           Community Center              Grocery Store   \n",
       "24              Melrose                Pizza Place                   Pharmacy   \n",
       "25       Morris Heights                Bus Station         Spanish Restaurant   \n",
       "26          Morris Park                Pizza Place              Deli / Bodega   \n",
       "27           Morrisania             Discount Store              Grocery Store   \n",
       "28           Mott Haven                Pizza Place         Spanish Restaurant   \n",
       "29           Mount Eden                Supermarket                   Pharmacy   \n",
       "30           Mount Hope              Grocery Store                Supermarket   \n",
       "31      North Riverdale                Pizza Place         Italian Restaurant   \n",
       "32              Norwood                Pizza Place                       Park   \n",
       "33            Olinville                Supermarket       Caribbean Restaurant   \n",
       "34          Parkchester                Supermarket                Pizza Place   \n",
       "35           Pelham Bay         Italian Restaurant       Fast Food Restaurant   \n",
       "36       Pelham Gardens                Bus Station                   Pharmacy   \n",
       "37       Pelham Parkway              Deli / Bodega                Pizza Place   \n",
       "38          Port Morris         Spanish Restaurant     Furniture / Home Store   \n",
       "39            Riverdale                       Park                 Playground   \n",
       "40        Schuylerville         Mexican Restaurant                Pizza Place   \n",
       "41            Soundview         Chinese Restaurant              Grocery Store   \n",
       "42       Spuyten Duyvil                       Park            Thai Restaurant   \n",
       "43          Throgs Neck                  Juice Bar         Italian Restaurant   \n",
       "44            Unionport                 Donut Shop  Latin American Restaurant   \n",
       "45   University Heights                 Shoe Store       Fast Food Restaurant   \n",
       "46             Van Nest                Pizza Place              Deli / Bodega   \n",
       "47            Wakefield             Ice Cream Shop                   Pharmacy   \n",
       "48           West Farms                Bus Station                       Park   \n",
       "49   Westchester Square                 Donut Shop       Fast Food Restaurant   \n",
       "50       Williamsbridge       Caribbean Restaurant              Metro Station   \n",
       "51             Woodlawn                Pizza Place              Deli / Bodega   \n",
       "\n",
       "        3rd Most Common Venue  \n",
       "0                         Spa  \n",
       "1              Discount Store  \n",
       "2                       Diner  \n",
       "3               Deli / Bodega  \n",
       "4              Breakfast Spot  \n",
       "5                 Pizza Place  \n",
       "6      Thrift / Vintage Store  \n",
       "7                      Bakery  \n",
       "8            Business Service  \n",
       "9              Ice Cream Shop  \n",
       "10          Convenience Store  \n",
       "11         Mexican Restaurant  \n",
       "12                      Trail  \n",
       "13                       Café  \n",
       "14                Bus Station  \n",
       "15                Supermarket  \n",
       "16         Chinese Restaurant  \n",
       "17             Cosmetics Shop  \n",
       "18                 Shoe Store  \n",
       "19  Latin American Restaurant  \n",
       "20                       Café  \n",
       "21                        Bar  \n",
       "22         Spanish Restaurant  \n",
       "23                 Donut Shop  \n",
       "24                Supermarket  \n",
       "25                   Pharmacy  \n",
       "26               Burger Joint  \n",
       "27                 Donut Shop  \n",
       "28                   Pharmacy  \n",
       "29                Pizza Place  \n",
       "30         Spanish Restaurant  \n",
       "31                 Bagel Shop  \n",
       "32                       Bank  \n",
       "33     Furniture / Home Store  \n",
       "34                       Bank  \n",
       "35                 Donut Shop  \n",
       "36         Spanish Restaurant  \n",
       "37         Chinese Restaurant  \n",
       "38                 Donut Shop  \n",
       "39               Home Service  \n",
       "40                   Pharmacy  \n",
       "41                   Pharmacy  \n",
       "42             Waste Facility  \n",
       "43                 Sports Bar  \n",
       "44                      Diner  \n",
       "45                Pizza Place  \n",
       "46                     Bakery  \n",
       "47                 Donut Shop  \n",
       "48                  Juice Bar  \n",
       "49                   Pharmacy  \n",
       "50                 Soup Place  \n",
       "51                 Playground  "
      ]
     },
     "execution_count": 19,
     "metadata": {},
     "output_type": "execute_result"
    }
   ],
   "source": [
    "num_top_venues = 3\n",
    "\n",
    "indicators = ['st', 'nd', 'rd']\n",
    "\n",
    "# create columns according to number of top venues\n",
    "columns = ['Neighborhood']\n",
    "for ind in np.arange(num_top_venues):\n",
    "    try:\n",
    "        columns.append('{}{} Most Common Venue'.format(ind+1, indicators[ind]))\n",
    "    except:\n",
    "        columns.append('{}th Most Common Venue'.format(ind+1))\n",
    "\n",
    "# create a new dataframe\n",
    "neighborhoods_venues_sorted = pd.DataFrame(columns=columns)\n",
    "neighborhoods_venues_sorted['Neighborhood'] = bronx_nogym_grouped['Neighborhood']\n",
    "\n",
    "for ind in np.arange(bronx_nogym_grouped.shape[0]):\n",
    "    neighborhoods_venues_sorted.iloc[ind, 1:] = return_most_common_venues(bronx_nogym_grouped.iloc[ind, :], num_top_venues)\n",
    "\n",
    "neighborhoods_venues_sorted"
   ]
  },
  {
   "cell_type": "markdown",
   "metadata": {},
   "source": [
    "## 2.3. Select potential neighborhoods: public transportation is the 1st most common venue"
   ]
  },
  {
   "cell_type": "code",
   "execution_count": 100,
   "metadata": {},
   "outputs": [
    {
     "name": "stdout",
     "output_type": "stream",
     "text": [
      "Claremont Village : Bus Station\n",
      "Co-op City : Bus Station\n",
      "Morris Heights : Bus Station\n",
      "Pelham Gardens : Bus Station\n",
      "West Farms : Bus Station\n"
     ]
    }
   ],
   "source": [
    "bronx_potential_gym = []\n",
    "\n",
    "for index,row in neighborhoods_venues_sorted.iterrows():\n",
    "    if \"Station\" in row[\"1st Most Common Venue\"]:\n",
    "        print(row[\"Neighborhood\"],\":\",row[\"1st Most Common Venue\"])\n",
    "        bronx_potential_gym.append(row[\"Neighborhood\"])       "
   ]
  },
  {
   "cell_type": "code",
   "execution_count": 101,
   "metadata": {},
   "outputs": [
    {
     "data": {
      "text/plain": [
       "['Claremont Village',\n",
       " 'Co-op City',\n",
       " 'Morris Heights',\n",
       " 'Pelham Gardens',\n",
       " 'West Farms']"
      ]
     },
     "execution_count": 101,
     "metadata": {},
     "output_type": "execute_result"
    }
   ],
   "source": [
    " bronx_potential_gym"
   ]
  },
  {
   "cell_type": "code",
   "execution_count": 107,
   "metadata": {},
   "outputs": [],
   "source": [
    "bronx_nogym_potential = []\n",
    "bronx_nogym_potential1 = bronx_nogym [bronx_nogym['Neighborhood'] == 'Claremont Village'].reset_index(drop=True)\n",
    "bronx_nogym_potential2 = bronx_nogym[bronx_nogym['Neighborhood'] == 'Co-op City'].reset_index(drop=True)\n",
    "bronx_nogym_potential3 = bronx_nogym[bronx_nogym['Neighborhood'] == 'Morris Heights'].reset_index(drop=True)\n",
    "bronx_nogym_potential4 = bronx_nogym[bronx_nogym['Neighborhood'] == 'Pelham Gardens'].reset_index(drop=True)\n",
    "bronx_nogym_potential5 = bronx_nogym[bronx_nogym['Neighborhood'] == 'West Farms'].reset_index(drop=True)\n",
    "bronx_nogym_potential = pd.concat([bronx_nogym_potential1,bronx_nogym_potential2,bronx_nogym_potential3,bronx_nogym_potential4,bronx_nogym_potential5])"
   ]
  },
  {
   "cell_type": "markdown",
   "metadata": {},
   "source": [
    "#### Create a map of Bronx with the 5 potential neighborhoods superimposed on top."
   ]
  },
  {
   "cell_type": "code",
   "execution_count": 109,
   "metadata": {},
   "outputs": [
    {
     "name": "stderr",
     "output_type": "stream",
     "text": [
      "/home/jupyterlab/conda/lib/python3.6/site-packages/ipykernel_launcher.py:3: DeprecationWarning: Using Nominatim with the default \"geopy/1.18.1\" `user_agent` is strongly discouraged, as it violates Nominatim's ToS https://operations.osmfoundation.org/policies/nominatim/ and may possibly cause 403 and 429 HTTP errors. Please specify a custom `user_agent` with `Nominatim(user_agent=\"my-application\")` or by overriding the default `user_agent`: `geopy.geocoders.options.default_user_agent = \"my-application\"`. In geopy 2.0 this will become an exception.\n",
      "  This is separate from the ipykernel package so we can avoid doing imports until\n"
     ]
    },
    {
     "name": "stdout",
     "output_type": "stream",
     "text": [
      "The geograpical coordinate of Bronx are 40.85048545, -73.8404035580209.\n"
     ]
    }
   ],
   "source": [
    "address = 'Bronx, NY'\n",
    "\n",
    "geolocator = Nominatim()\n",
    "location = geolocator.geocode(address)\n",
    "latitude = location.latitude\n",
    "longitude = location.longitude\n",
    "print('The geograpical coordinate of Bronx are {}, {}.'.format(latitude, longitude))"
   ]
  },
  {
   "cell_type": "code",
   "execution_count": 113,
   "metadata": {},
   "outputs": [
    {
     "data": {
      "text/html": [
       "<div style=\"width:100%;\"><div style=\"position:relative;width:100%;height:0;padding-bottom:60%;\"><iframe src=\"data:text/html;charset=utf-8;base64,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\" style=\"position:absolute;width:100%;height:100%;left:0;top:0;border:none !important;\" allowfullscreen webkitallowfullscreen mozallowfullscreen></iframe></div></div>"
      ],
      "text/plain": [
       "<folium.folium.Map at 0x7f932e76f710>"
      ]
     },
     "execution_count": 113,
     "metadata": {},
     "output_type": "execute_result"
    }
   ],
   "source": [
    "# create map of Manhattan using latitude and longitude values\n",
    "map_bronx_potential = folium.Map(location=[latitude, longitude], zoom_start=12)\n",
    "\n",
    "# add markers to map\n",
    "for lat, lng, label in zip(bronx_nogym_potential[\"Neighborhood Latitude\"], bronx_nogym_potential[\"Neighborhood Longitude\"], bronx_nogym_potential[\"Neighborhood\"]):\n",
    "    label = folium.Popup(label, parse_html=True)\n",
    "    folium.CircleMarker(\n",
    "        [lat, lng],\n",
    "        radius=5,\n",
    "        popup=label,\n",
    "        color='blue',\n",
    "        fill=True,\n",
    "        fill_color='#3186cc',\n",
    "        fill_opacity=0.7,\n",
    "        parse_html=False).add_to(map_bronx_potential)  \n",
    "    \n",
    "map_bronx_potential"
   ]
  },
  {
   "cell_type": "markdown",
   "metadata": {},
   "source": [
    "## 3. Results/Discussion"
   ]
  },
  {
   "cell_type": "markdown",
   "metadata": {},
   "source": [
    "1. I found that Bronx has **52** neighborhoods **without a gym**. Therefore, the new gym in these neighborhoods would not have local competition.\n",
    "2. I identified the **3 most common venues** for each neighborhood of the selected 52 neighborhoods. These venues were then used to further investigate the best location to open the gym.\n",
    "3. To identify potential good neighborhoods to open a gym, I selected only neighborhoods where the 1st Common Venue was \"Public transportation\" (Bus/Metro). \n",
    "4. Based only on the venue \"Public Transportation\" I found 5 potential neighborhoods: **Claremont Village, Co-op City, Morris Heights, Pelham Gardens, and West Farms**. In these neighborhoods bus station is the 1st most common venue. \n",
    "5. I created a map of Bronx with the 5 potential locations for a new gym."
   ]
  },
  {
   "cell_type": "markdown",
   "metadata": {},
   "source": [
    "## 4. Conclusion"
   ]
  },
  {
   "cell_type": "markdown",
   "metadata": {},
   "source": [
    "I identified **Claremont Village, Co-op City, Morris Heights, Pelham Gardens, and West Farms** as potential good neighborhoods to open a new gym. These neighborhoods do not have yet a gym, which eliminates local competition. These neighborhoods have also frequent use of the bus. I used  public transportation as a favorable venue but others should be considered to further reduce the list of potential neighborhoods to only one neighborhood with potential for a successful gym.  "
   ]
  },
  {
   "cell_type": "code",
   "execution_count": null,
   "metadata": {},
   "outputs": [],
   "source": []
  }
 ],
 "metadata": {
  "kernelspec": {
   "display_name": "Python 3",
   "language": "python",
   "name": "python3"
  },
  "language_info": {
   "codemirror_mode": {
    "name": "ipython",
    "version": 3
   },
   "file_extension": ".py",
   "mimetype": "text/x-python",
   "name": "python",
   "nbconvert_exporter": "python",
   "pygments_lexer": "ipython3",
   "version": "3.6.6"
  }
 },
 "nbformat": 4,
 "nbformat_minor": 2
}
